{
 "cells": [
  {
   "cell_type": "markdown",
   "metadata": {},
   "source": [
    "## MaNGA Galaxy of the Day\n",
    "\n",
    "This code makes a nice clean, four panel example image for any MaNGA galaxy. \n",
    "\n",
    "You can edit it to specify a specifc galaxy, and change the selection of maps to show out of the six options I set up. \n",
    "\n",
    "```#Selection of three maps to show\n",
    "i=0 #Ionized gas (Halpha) flux\n",
    "j=1 #Stellar velocity\n",
    "k=3 #Ionized gas (Halpha) velocity\n",
    "#i=2 #Stellar sigma\n",
    "#i=4 #Dn4000\n",
    "#k=5 #Mgb index```\n",
    "\n",
    "At some point this might form the basis of a \"MaNGA Galaxy of the Day\" tweet bot, but that hasn't happened yet. "
   ]
  },
  {
   "cell_type": "code",
   "execution_count": null,
   "metadata": {
    "execution": {
     "iopub.execute_input": "2023-03-22T14:27:00.420758Z",
     "iopub.status.busy": "2023-03-22T14:27:00.420137Z"
    },
    "tags": []
   },
   "outputs": [
    {
     "name": "stderr",
     "output_type": "stream",
     "text": [
      "/home/idies/miniconda3/envs/py38/lib/python3.8/site-packages/marvin/core/exceptions.py:50: UserWarning: cannot initiate Sentry error reporting: [Errno 6] No such device or address.\n",
      "  warnings.warn('cannot initiate Sentry error reporting: {0}.'.format(str(ee)),\n",
      "\u001b[0;34m[INFO]: \u001b[0mNo release version set. Setting default to DR17\n",
      "\u001b[1;33m[WARNING]: \u001b[0m\u001b[0;39mpath /home/idies/workspace/sdss_sas/mangawork/manga/spectro/redux/v3_1_1/drpall-v3_1_1.fits cannot be found. Setting drpall to None.\u001b[0m \u001b[0;36m(MarvinUserWarning)\u001b[0m\n",
      "\u001b[1;33m[WARNING]: \u001b[0m\u001b[0;39mpath /home/idies/workspace/sdss_sas/mangawork/manga/spectro/analysis/v3_1_1/3.1.0/dapall-v3_1_1-3.1.0.fits cannot be found. Setting dapall to None.\u001b[0m \u001b[0;36m(MarvinUserWarning)\u001b[0m\n"
     ]
    }
   ],
   "source": [
    "import matplotlib.pyplot as plt\n",
    "plt.style.use('seaborn-darkgrid')\n",
    "import matplotlib.pyplot as plt\n",
    "import matplotlib.gridspec as gridspec\n",
    "import numpy as np\n",
    "from marvin.tools.image import Image\n",
    "from marvin.tools import Maps\n",
    "\n",
    "\n",
    "\n",
    "CustomText=['The maps and image together show the location and motions of stars and ionized gas in the galaxy, and represent just a handful of the information MaNGA obtains for each galaxy.',\n",
    "            'This galaxy, picked by @KarenLMasters, has a strong spiral arm feature in both the image and ionised gas, revealing star formation in the arms.',\n",
    "             'This galaxy, picked by @KarenLMasters, has a gas velocity field which looks like the peace symbol.']\n",
    "\n",
    "\n",
    "#galaxy='10220-12702'\n",
    "#galaxy='8329-1901'\n",
    "#galaxy = '12512-9102'\n",
    "#galaxy = '8612-12702'\n",
    "#galaxy = '11977-12703'\n",
    "#galaxy = '9863-12704'\n",
    "#galaxy = '9000-12705'\n",
    "#galaxy = '11755-12703'#1-258538\n",
    "galaxy = '12491-12704'\n",
    "i=0\n",
    "if galaxy=='10220-12705': i=1\n",
    "if galaxy=='12512-9102': i=2\n",
    "    \n",
    "maps = Maps(galaxy)\n",
    "image = Image(plateifu=galaxy)\n",
    "\n",
    "\n",
    "print('MaNGA galaxy of the day. An image and three MaNGA maps of MaNGA-ID={}.'.format(galaxy.strip()))\n",
    "print(CustomText[i])\n",
    "print('https://dr17.sdss.org/marvin/galaxy/{}/'.format(galaxy.strip()))\n",
    "\n",
    "print('ALT: Four views of galaxy MaNGA-ID={}. (1) SDSS image which usually shows blue/orange blobs on a black background, over which is a magenta hexagon, showing the region of sky in the other three plots. The axes are Right Ascension, and Declination which are the sky coordinates. (2) Plot title: ‘Ionized gas (Halpha) flux’ which usually shows a roughly hexagonal blue/green area in a gray box. The axes are labeled ‘spaxel’ (spatial pixel). There is a color bar at right which shows the scale to convert from the blue/green colors to flux in units of 1e-17 ergs/spaxel/cm^2. This is custom made for each specific galaxy. (3) Plot title: ‘Stellar Velocity’ and (4) ‘Ionized gas (Halpha) velocity’ are both (usually) red/blue rough hexagons in gray boxes. Both have ‘spaxel’ labels on the axes, and a color-bar to convert from color in the image to positive (red) or negative (blue) velocities in km/s.'.format(galaxy.strip()))\n",
    "\n",
    "#List of map names to select from\n",
    "mapname = ['emline_gflux_halpha','stellar_vel', 'stellar_sigma', 'emline_gvel_halpha', 'specindex_dn4000', 'specindex_mgb']\n",
    "\n",
    "#Selection of three maps to show\n",
    "i=0 #Ionized gas (Halpha) flux\n",
    "j=1 #Stellar velocity\n",
    "k=3 #Ionized gas (Halpha) velocity\n",
    "#i=2 #Stellar sigma\n",
    "#i=4 #Dn4000\n",
    "#k=5 #Mgb index\n",
    "\n",
    "# Set up the Multiplot.\n",
    "fig = plt.figure(figsize=(12, 9))\n",
    "gs = gridspec.GridSpec(2, 2, wspace=0.1, hspace=0.25)\n",
    "\n",
    "#Plot the image\n",
    "ax0 = plt.subplot(gs[0, 0], projection=image.wcs)\n",
    "ax0.imshow(image.data)\n",
    "ax0.set_xlabel('Right Ascension')\n",
    "ax0.set_ylabel('Declination')\n",
    "ax0.set_title('Optical gri image')\n",
    "ax0.grid(visible='None')\n",
    "\n",
    "#Plot three maps\n",
    "ax1=plt.subplot(gs[0, 1])\n",
    "maps[mapname[i]].plot(ax=ax1, fig=fig, title=r'Ionized gas (H$_\\alpha$) flux')\n",
    "#maps[mapname[i]].plot(ax=ax1, fig=fig, title=r'Dn4000 Index')\n",
    "\n",
    "ax2 = plt.subplot(gs[1, 0])\n",
    "maps[mapname[j]].plot(fig=fig, ax=ax2)\n",
    "\n",
    "ax3 = plt.subplot(gs[1, 1])\n",
    "maps[mapname[k]].plot(ax=ax3, fig=fig , title=r'Ionized gas (H$_\\alpha$) velocity')\n",
    "#maps[mapname[k]].plot(ax=ax3, fig=fig , title=r'Mgb Index')\n"
   ]
  }
 ],
 "metadata": {
  "kernelspec": {
   "display_name": "Python 3.8 (py38)",
   "language": "python",
   "name": "py38"
  },
  "language_info": {
   "codemirror_mode": {
    "name": "ipython",
    "version": 3
   },
   "file_extension": ".py",
   "mimetype": "text/x-python",
   "name": "python",
   "nbconvert_exporter": "python",
   "pygments_lexer": "ipython3",
   "version": "3.8.5"
  }
 },
 "nbformat": 4,
 "nbformat_minor": 4
}
