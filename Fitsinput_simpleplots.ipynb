{
 "cells": [
  {
   "cell_type": "markdown",
   "id": "a81ce28b",
   "metadata": {},
   "source": [
    "# Example Code\n",
    "## Read a FITS file and make some plots"
   ]
  },
  {
   "cell_type": "code",
   "execution_count": 2,
   "id": "ffb7f4fe",
   "metadata": {},
   "outputs": [],
   "source": [
    "from astropy.io import fits\n",
    "import matplotlib.pyplot as plt\n",
    "import pandas as pd"
   ]
  },
  {
   "cell_type": "code",
   "execution_count": 3,
   "id": "10473d15",
   "metadata": {},
   "outputs": [],
   "source": [
    "#Astropy import statements\n",
    "name='mangaHIall.fits'\n",
    "hdul = fits.open(name)"
   ]
  },
  {
   "cell_type": "code",
   "execution_count": 4,
   "id": "2495998b",
   "metadata": {},
   "outputs": [
    {
     "name": "stdout",
     "output_type": "stream",
     "text": [
      "Filename: mangaHIall.fits\n",
      "No.    Name      Ver    Type      Cards   Dimensions   Format\n",
      "  0  PRIMARY       1 PrimaryHDU      16   (1896,)   uint8   \n",
      "  1  MANGAHIALL - HI-MANGA DATA FROM AGBT16A_95 OBSERVING    1 BinTableHDU     65   331R x 26C   [10A, 9A, D, D, I, 12A, E, E, E, E, E, E, E, I, E, I, I, I, I, I, E, E, E, E, E, E]   \n"
     ]
    }
   ],
   "source": [
    "#Look at what's in the fits file. The table is in HDU = 1\n",
    "hdul.info()"
   ]
  },
  {
   "cell_type": "code",
   "execution_count": 5,
   "id": "b43076a4",
   "metadata": {},
   "outputs": [],
   "source": [
    "#Read the data into an table. \n",
    "data=hdul[1].data"
   ]
  },
  {
   "cell_type": "code",
   "execution_count": 6,
   "id": "fa4bea47",
   "metadata": {},
   "outputs": [
    {
     "name": "stdout",
     "output_type": "stream",
     "text": [
      "name:\n",
      "    ['plateifu', 'mangaid', 'objra', 'objdec', 'vopt', 'session', 'Exp', 'rms', 'logHIlim200kms', 'peak', 'snr', 'FHI', 'logMHI', 'VHI', 'eV', 'WM50', 'WP50', 'WP20', 'W2P50', 'WF50', 'Pr', 'Pl', 'ar', 'br', 'al', 'bl']\n",
      "format:\n",
      "    ['10A', '9A', 'D', 'D', 'I', '12A', 'E', 'E', 'E', 'E', 'E', 'E', 'E', 'I', 'E', 'I', 'I', 'I', 'I', 'I', 'E', 'E', 'E', 'E', 'E', 'E']\n",
      "unit:\n",
      "    ['', '', '', '', '', '', '', '', '', '', '', '', '', '', '', '', '', '', '', '', '', '', '', '', '', '']\n",
      "null:\n",
      "    ['', '', '', '', '', '', '', '', '', '', '', '', '', '', '', '', '', '', '', '', '', '', '', '', '', '']\n",
      "bscale:\n",
      "    ['', '', '', '', '', '', '', '', '', '', '', '', '', '', '', '', '', '', '', '', '', '', '', '', '', '']\n",
      "bzero:\n",
      "    ['', '', '', '', '', '', '', '', '', '', '', '', '', '', '', '', '', '', '', '', '', '', '', '', '', '']\n",
      "disp:\n",
      "    ['', '', '', '', '', '', '', '', '', '', '', '', '', '', '', '', '', '', '', '', '', '', '', '', '', '']\n",
      "start:\n",
      "    ['', '', '', '', '', '', '', '', '', '', '', '', '', '', '', '', '', '', '', '', '', '', '', '', '', '']\n",
      "dim:\n",
      "    ['', '', '', '', '', '', '', '', '', '', '', '', '', '', '', '', '', '', '', '', '', '', '', '', '', '']\n",
      "coord_type:\n",
      "    ['', '', '', '', '', '', '', '', '', '', '', '', '', '', '', '', '', '', '', '', '', '', '', '', '', '']\n",
      "coord_unit:\n",
      "    ['', '', '', '', '', '', '', '', '', '', '', '', '', '', '', '', '', '', '', '', '', '', '', '', '', '']\n",
      "coord_ref_point:\n",
      "    ['', '', '', '', '', '', '', '', '', '', '', '', '', '', '', '', '', '', '', '', '', '', '', '', '', '']\n",
      "coord_ref_value:\n",
      "    ['', '', '', '', '', '', '', '', '', '', '', '', '', '', '', '', '', '', '', '', '', '', '', '', '', '']\n",
      "coord_inc:\n",
      "    ['', '', '', '', '', '', '', '', '', '', '', '', '', '', '', '', '', '', '', '', '', '', '', '', '', '']\n",
      "time_ref_pos:\n",
      "    ['', '', '', '', '', '', '', '', '', '', '', '', '', '', '', '', '', '', '', '', '', '', '', '', '', '']\n"
     ]
    }
   ],
   "source": [
    "#Get information on columns\n",
    "cols = hdul[1].columns\n",
    "cols.info()"
   ]
  },
  {
   "cell_type": "code",
   "execution_count": 11,
   "id": "c1aadbdc",
   "metadata": {},
   "outputs": [
    {
     "data": {
      "text/plain": [
       "Text(0, 0.5, 'Number')"
      ]
     },
     "execution_count": 11,
     "metadata": {},
     "output_type": "execute_result"
    },
    {
     "data": {
      "image/png": "[encoded data removed]",
      "text/plain": [
       "<Figure size 432x288 with 1 Axes>"
      ]
     },
     "metadata": {
      "needs_background": "light"
     },
     "output_type": "display_data"
    }
   ],
   "source": [
    "#Pick out a column of interest and make a quick histogram\n",
    "variable=data['Exp']\n",
    "plt.hist(variable)\n",
    "plt.xlabel('Exposure time (seconds)')\n",
    "plt.ylabel('Number')"
   ]
  },
  {
   "cell_type": "code",
   "execution_count": 14,
   "id": "e8d2a90c",
   "metadata": {},
   "outputs": [
    {
     "data": {
      "text/plain": [
       "<matplotlib.legend.Legend at 0x7f4dfbe1f210>"
      ]
     },
     "execution_count": 14,
     "metadata": {},
     "output_type": "execute_result"
    },
    {
     "data": {
      "image/png": "[encoded data removed]",
      "text/plain": [
       "<Figure size 432x288 with 1 Axes>"
      ]
     },
     "metadata": {
      "needs_background": "light"
     },
     "output_type": "display_data"
    }
   ],
   "source": [
    "#Slice data on values in a column and make two new histograms\n",
    "detected=data[data['logMHI']>0]\n",
    "notdetected=data[data['logMHI']<0]\n",
    "plt.hist(detected['Exp'],alpha=0.5,label='Detected',range=[0,1500])\n",
    "plt.hist(notdetected['Exp'],alpha=0.5,label='Not detected',range=[0,1500])\n",
    "# Need to set range to plot two histograms to compare. Otherwise will not match up bins. \n",
    "#All options: https://matplotlib.org/stable/api/_as_gen/matplotlib.pyplot.hist.html\n",
    "plt.xlabel('Exposure time (seconds)')\n",
    "plt.ylabel('Number')\n",
    "plt.legend()"
   ]
  },
  {
   "cell_type": "code",
   "execution_count": 16,
   "id": "2755df8e",
   "metadata": {},
   "outputs": [
    {
     "data": {
      "text/plain": [
       "<matplotlib.legend.Legend at 0x7f4dfbced5d0>"
      ]
     },
     "execution_count": 16,
     "metadata": {},
     "output_type": "execute_result"
    },
    {
     "data": {
      "image/png": "[encoded data removed]",
      "text/plain": [
       "<Figure size 432x288 with 1 Axes>"
      ]
     },
     "metadata": {
      "needs_background": "light"
     },
     "output_type": "display_data"
    }
   ],
   "source": [
    "#If sample sizes have different numbers it's useful to make normalized histograms\n",
    "plt.hist(detected['Exp'],alpha=0.5,label='Detected',range=[0,1500],density=True)\n",
    "plt.hist(notdetected['Exp'],alpha=0.5,label='Not detected',range=[0,1500],density=True)\n",
    "plt.xlabel('Exposure time (seconds)')\n",
    "plt.ylabel('Probability density')\n",
    "plt.legend()"
   ]
  },
  {
   "cell_type": "code",
   "execution_count": 18,
   "id": "fa61782f",
   "metadata": {},
   "outputs": [
    {
     "data": {
      "text/plain": [
       "Text(0, 0.5, 'rms noise')"
      ]
     },
     "execution_count": 18,
     "metadata": {},
     "output_type": "execute_result"
    },
    {
     "data": {
      "image/png": "[encoded data removed]",
      "text/plain": [
       "<Figure size 432x288 with 1 Axes>"
      ]
     },
     "metadata": {
      "needs_background": "light"
     },
     "output_type": "display_data"
    }
   ],
   "source": [
    "#Make a scatter plot\n",
    "plt.plot(data['Exp'],data['rms'],'.')\n",
    "plt.xlabel('Exposure time (seconds)')\n",
    "plt.ylabel('rms noise')"
   ]
  },
  {
   "cell_type": "code",
   "execution_count": 19,
   "id": "4a138e96",
   "metadata": {},
   "outputs": [],
   "source": [
    "#Put the data into a Panda data frame (if you prefer Pandas, which has some nice uses for table work)\n",
    "#https://pandas.pydata.org/docs/index.html\n",
    "df=pd.DataFrame(data)"
   ]
  },
  {
   "cell_type": "code",
   "execution_count": 20,
   "id": "9bd2e24f",
   "metadata": {},
   "outputs": [],
   "source": []
  },
  {
   "cell_type": "code",
   "execution_count": null,
   "id": "90a2bf97",
   "metadata": {},
   "outputs": [],
   "source": []
  }
 ],
 "metadata": {
  "kernelspec": {
   "display_name": "python3.7.7",
   "language": "python",
   "name": "python3.7.7"
  },
  "language_info": {
   "codemirror_mode": {
    "name": "ipython",
    "version": 3
   },
   "file_extension": ".py",
   "mimetype": "text/x-python",
   "name": "python",
   "nbconvert_exporter": "python",
   "pygments_lexer": "ipython3",
   "version": "3.7.7"
  }
 },
 "nbformat": 4,
 "nbformat_minor": 5
}
